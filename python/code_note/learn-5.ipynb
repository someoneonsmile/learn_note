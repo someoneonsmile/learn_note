{
 "cells": [
  {
   "cell_type": "code",
   "execution_count": 1,
   "metadata": {},
   "outputs": [
    {
     "name": "stdout",
     "output_type": "stream",
     "text": [
      "100\n",
      "20\n"
     ]
    }
   ],
   "source": [
    "# 函数\n",
    "print(abs(100))\n",
    "print(abs(-20))"
   ]
  },
  {
   "cell_type": "code",
   "execution_count": 2,
   "metadata": {},
   "outputs": [
    {
     "ename": "TypeError",
     "evalue": "abs() takes exactly one argument (2 given)",
     "output_type": "error",
     "traceback": [
      "\u001b[1;31m---------------------------------------------------------------------------\u001b[0m",
      "\u001b[1;31mTypeError\u001b[0m                                 Traceback (most recent call last)",
      "\u001b[1;32m<ipython-input-2-6a935214009a>\u001b[0m in \u001b[0;36m<module>\u001b[1;34m()\u001b[0m\n\u001b[0;32m      1\u001b[0m \u001b[1;31m# 参数错误\u001b[0m\u001b[1;33m\u001b[0m\u001b[1;33m\u001b[0m\u001b[0m\n\u001b[1;32m----> 2\u001b[1;33m \u001b[0mabs\u001b[0m\u001b[1;33m(\u001b[0m\u001b[1;33m-\u001b[0m\u001b[1;36m20\u001b[0m\u001b[1;33m,\u001b[0m \u001b[1;36m2\u001b[0m\u001b[1;33m)\u001b[0m\u001b[1;33m\u001b[0m\u001b[0m\n\u001b[0m",
      "\u001b[1;31mTypeError\u001b[0m: abs() takes exactly one argument (2 given)"
     ]
    }
   ],
   "source": [
    "# 参数个数错误\n",
    "abs(-20, 2)"
   ]
  },
  {
   "cell_type": "code",
   "execution_count": 3,
   "metadata": {},
   "outputs": [
    {
     "ename": "TypeError",
     "evalue": "bad operand type for abs(): 'str'",
     "output_type": "error",
     "traceback": [
      "\u001b[1;31m---------------------------------------------------------------------------\u001b[0m",
      "\u001b[1;31mTypeError\u001b[0m                                 Traceback (most recent call last)",
      "\u001b[1;32m<ipython-input-3-fdf25619deb3>\u001b[0m in \u001b[0;36m<module>\u001b[1;34m()\u001b[0m\n\u001b[0;32m      1\u001b[0m \u001b[1;31m# 参数类型错误\u001b[0m\u001b[1;33m\u001b[0m\u001b[1;33m\u001b[0m\u001b[0m\n\u001b[1;32m----> 2\u001b[1;33m \u001b[0mabs\u001b[0m\u001b[1;33m(\u001b[0m\u001b[1;34m'23'\u001b[0m\u001b[1;33m)\u001b[0m\u001b[1;33m\u001b[0m\u001b[0m\n\u001b[0m",
      "\u001b[1;31mTypeError\u001b[0m: bad operand type for abs(): 'str'"
     ]
    }
   ],
   "source": [
    "# 参数类型错误\n",
    "abs('23')"
   ]
  },
  {
   "cell_type": "code",
   "execution_count": 4,
   "metadata": {},
   "outputs": [
    {
     "data": {
      "text/plain": [
       "5"
      ]
     },
     "execution_count": 4,
     "metadata": {},
     "output_type": "execute_result"
    }
   ],
   "source": [
    "# max 函数, 可以接收任意多个参数, 并返回最大的那个\n",
    "max(3, 4)\n",
    "max(3, 5, 5)"
   ]
  },
  {
   "cell_type": "code",
   "execution_count": 6,
   "metadata": {},
   "outputs": [
    {
     "data": {
      "text/plain": [
       "4"
      ]
     },
     "execution_count": 6,
     "metadata": {},
     "output_type": "execute_result"
    }
   ],
   "source": [
    "# max list\n",
    "a = [2, 3, 4]\n",
    "max(a)"
   ]
  },
  {
   "cell_type": "code",
   "execution_count": 7,
   "metadata": {},
   "outputs": [
    {
     "data": {
      "text/plain": [
       "233"
      ]
     },
     "execution_count": 7,
     "metadata": {},
     "output_type": "execute_result"
    }
   ],
   "source": [
    "# 数据类型转换\n",
    "int('233')"
   ]
  },
  {
   "cell_type": "code",
   "execution_count": 11,
   "metadata": {},
   "outputs": [
    {
     "name": "stdout",
     "output_type": "stream",
     "text": [
      "0xff 0x3e8\n"
     ]
    }
   ],
   "source": [
    "# test\n",
    "n1 = 255\n",
    "n2 = 1000\n",
    "print(hex(n1),hex(n2))"
   ]
  },
  {
   "cell_type": "code",
   "execution_count": 13,
   "metadata": {},
   "outputs": [
    {
     "name": "stdout",
     "output_type": "stream",
     "text": [
      "99\n"
     ]
    }
   ],
   "source": [
    "# 函数定义\n",
    "def my_abs(x):\n",
    "    if x > 0:\n",
    "        return x\n",
    "    if x < 0:\n",
    "        return -x\n",
    "print(my_abs(-99))"
   ]
  },
  {
   "cell_type": "code",
   "execution_count": 34,
   "metadata": {},
   "outputs": [
    {
     "data": {
      "text/plain": [
       "(-0.2928932188134524, -1.7071067811865475)"
      ]
     },
     "execution_count": 34,
     "metadata": {},
     "output_type": "execute_result"
    }
   ],
   "source": [
    "# 求一元二次方程的两个根\n",
    "import math\n",
    "def quadratic(a, b, c):\n",
    "    for n in (a, b, c):\n",
    "        if not isinstance(n, (int, float)):\n",
    "            raise TyperError('请输入数字')\n",
    "    d = b**2 - 4 * a * c\n",
    "    if d < 0:\n",
    "        return\n",
    "    return (-b + math.sqrt(d))/ ( 2 * a ), (-b - math.sqrt(d)) / ( 2 * a )\n",
    "\n",
    "quadratic(2, 4, 1)"
   ]
  },
  {
   "cell_type": "code",
   "execution_count": 37,
   "metadata": {},
   "outputs": [
    {
     "data": {
      "text/plain": [
       "125"
      ]
     },
     "execution_count": 37,
     "metadata": {},
     "output_type": "execute_result"
    }
   ],
   "source": [
    "# 默认参数\n",
    "def power(x, n=2):\n",
    "    return x ** n\n",
    "\n",
    "# 不指定参数的情况\n",
    "power(5)\n",
    "\n",
    "# 通过参数名称指定参数\n",
    "power(x=5, n=3)"
   ]
  },
  {
   "cell_type": "code",
   "execution_count": 41,
   "metadata": {},
   "outputs": [
    {
     "data": {
      "text/plain": [
       "['end', 'end']"
      ]
     },
     "execution_count": 41,
     "metadata": {},
     "output_type": "execute_result"
    }
   ],
   "source": [
    " # 默认参数的坑\n",
    "def add_end(L=[]):\n",
    "    L.append(\"end\")\n",
    "    return L\n",
    "\n",
    "# 第一次调用 \n",
    "add_end()\n",
    "\n",
    "# 第二次调用\n",
    "add_end()"
   ]
  },
  {
   "cell_type": "code",
   "execution_count": 43,
   "metadata": {},
   "outputs": [],
   "source": [
    "# Python 函数在定义的时候, 默认参数L的值就被计算出来了, 即 [ ], 默认参数 L 是一个变量, 它指向 [ ]\n",
    "# 定义默认参数必须指向不变对象"
   ]
  },
  {
   "cell_type": "code",
   "execution_count": 56,
   "metadata": {},
   "outputs": [],
   "source": [
    "# 用 None 这个不变对象不替换上面的写法\n",
    "def add_end(L=None):\n",
    "    if L is None:\n",
    "        L = []\n",
    "    L.append('end')\n",
    "    return L"
   ]
  },
  {
   "cell_type": "code",
   "execution_count": 57,
   "metadata": {},
   "outputs": [
    {
     "data": {
      "text/plain": [
       "['end']"
      ]
     },
     "execution_count": 57,
     "metadata": {},
     "output_type": "execute_result"
    }
   ],
   "source": [
    "add_end()\n",
    "\n",
    "add_end()"
   ]
  },
  {
   "cell_type": "code",
   "execution_count": 58,
   "metadata": {},
   "outputs": [],
   "source": [
    "# 可变参数, 在函数内部自动封装成一个 tuple \n",
    "def calc(*numbers):\n",
    "    sum = 0\n",
    "    for n in numbers:\n",
    "        sum += n * n\n",
    "    return sum"
   ]
  },
  {
   "cell_type": "code",
   "execution_count": 59,
   "metadata": {},
   "outputs": [
    {
     "data": {
      "text/plain": [
       "10"
      ]
     },
     "execution_count": 59,
     "metadata": {},
     "output_type": "execute_result"
    }
   ],
   "source": [
    "calc(1, 3)"
   ]
  },
  {
   "cell_type": "code",
   "execution_count": 60,
   "metadata": {},
   "outputs": [
    {
     "data": {
      "text/plain": [
       "46"
      ]
     },
     "execution_count": 60,
     "metadata": {},
     "output_type": "execute_result"
    }
   ],
   "source": [
    "# 已经有一个 list 或者 tuple, 调用时, 在 list/tuple 前加上 *, * 等同于 js 中的 ...\n",
    "a = [1, 3, 6]\n",
    "calc( *a )"
   ]
  },
  {
   "cell_type": "code",
   "execution_count": 61,
   "metadata": {},
   "outputs": [],
   "source": [
    "# 关键字参数, 两个星号, 同可变参数相似, 函数内部自动封装成 dict\n",
    "def person(name, age, **kw):\n",
    "    print('name:', name, ', age: ', age, ', other: ', kw)"
   ]
  },
  {
   "cell_type": "code",
   "execution_count": 62,
   "metadata": {},
   "outputs": [
    {
     "name": "stdout",
     "output_type": "stream",
     "text": [
      "name: tom , age:  23 , other:  {'city': 'beijing'}\n",
      "name: anny , age:  12 , other:  {'city': 'zh', 'job': 'fs'}\n"
     ]
    }
   ],
   "source": [
    "person('tom', 23, city='beijing')\n",
    "person('anny', 12, city='zh', job='fs')"
   ]
  },
  {
   "cell_type": "code",
   "execution_count": 63,
   "metadata": {},
   "outputs": [
    {
     "name": "stdout",
     "output_type": "stream",
     "text": [
      "name: tody , age:  22 , other:  {'tid': '23', 'cid': 'ere'}\n"
     ]
    }
   ],
   "source": [
    "# 已经封装成 dict 时, 可以在 dict 前面加上两个星号\n",
    "dic = {'tid':'23', 'cid':'ere'}\n",
    "person('tody', 22, **dic)"
   ]
  },
  {
   "cell_type": "code",
   "execution_count": 64,
   "metadata": {},
   "outputs": [],
   "source": [
    "# 命名关键字参数, 以一个特殊的分隔符 * , * 后面的为命名关键字参数\n",
    "def person(name, age, *, city, job):\n",
    "    print('name:', name, ' age:', age, ' city:', city, ' job:', job)"
   ]
  },
  {
   "cell_type": "code",
   "execution_count": 66,
   "metadata": {},
   "outputs": [
    {
     "ename": "TypeError",
     "evalue": "person() takes 2 positional arguments but 4 were given",
     "output_type": "error",
     "traceback": [
      "\u001b[1;31m---------------------------------------------------------------------------\u001b[0m",
      "\u001b[1;31mTypeError\u001b[0m                                 Traceback (most recent call last)",
      "\u001b[1;32m<ipython-input-66-9c4eb4f46416>\u001b[0m in \u001b[0;36m<module>\u001b[1;34m()\u001b[0m\n\u001b[1;32m----> 1\u001b[1;33m \u001b[0mperson\u001b[0m\u001b[1;33m(\u001b[0m\u001b[1;34m'amm'\u001b[0m\u001b[1;33m,\u001b[0m \u001b[1;36m23\u001b[0m\u001b[1;33m,\u001b[0m \u001b[1;34m'bj'\u001b[0m\u001b[1;33m,\u001b[0m \u001b[1;34m'fs'\u001b[0m\u001b[1;33m)\u001b[0m\u001b[1;33m\u001b[0m\u001b[0m\n\u001b[0m",
      "\u001b[1;31mTypeError\u001b[0m: person() takes 2 positional arguments but 4 were given"
     ]
    }
   ],
   "source": [
    "# 命名关键字参数, 必须传入参数名\n",
    "person('amm', 23, 'bj', 'fs')"
   ]
  },
  {
   "cell_type": "code",
   "execution_count": 67,
   "metadata": {},
   "outputs": [
    {
     "name": "stdout",
     "output_type": "stream",
     "text": [
      "name: amm  age: 23  city: bj  job: job\n"
     ]
    }
   ],
   "source": [
    "person('amm', 23, city='bj', job='job')"
   ]
  },
  {
   "cell_type": "code",
   "execution_count": 68,
   "metadata": {},
   "outputs": [],
   "source": [
    "# 如果函数定义中已经有了一个可变参数, 后面的命名关键字参数就不再需要一个特殊分隔符 * 了, 命名关键字参数可以设置默认值\n",
    "def person(name, age, *args, city, job='fs'):\n",
    "    print('name:', name, ' age:', age, ' args:', args, ' city:', city, ' job:', job)"
   ]
  },
  {
   "cell_type": "code",
   "execution_count": 72,
   "metadata": {},
   "outputs": [
    {
     "name": "stdout",
     "output_type": "stream",
     "text": [
      "name: ll  age: 22  args: ('args', 'nadf')  city: mmm  job: nn\n",
      "name: mmm  age: 21  args: (2, 3, 5)  city: city  job: job\n"
     ]
    }
   ],
   "source": [
    "# 可变参数, 跟命名关键字参数同时使用\n",
    "person('ll', 22, 'args', 'nadf',city='mmm', job='nn')\n",
    "a = [2,3,5]\n",
    "person('mmm', 21, *a, city='city', job='job')"
   ]
  },
  {
   "cell_type": "code",
   "execution_count": 73,
   "metadata": {},
   "outputs": [],
   "source": [
    "# 参数组合\n",
    "def f1(a, b, c=0, *args, **kw):\n",
    "    print('a:', a, ' b:', b, ' args:', args, ' kw', kw)"
   ]
  },
  {
   "cell_type": "code",
   "execution_count": 80,
   "metadata": {},
   "outputs": [
    {
     "name": "stdout",
     "output_type": "stream",
     "text": [
      "a: 1  b: 3  args: ()  kw {}\n",
      "a: 1  b: 3  args: ()  kw {}\n",
      "a: 1  b: 3  args: ('a', 'b')  kw {}\n",
      "a: 1  b: 3  args: ('a', 'b')  kw {'x': '9', 'y': '10'}\n",
      "a: 1  b: 2  args: (4, 5)  kw {'d': 'x', 'e': 'y'}\n"
     ]
    }
   ],
   "source": [
    "f1(1, 3)\n",
    "f1(1, 3, 2)\n",
    "f1(1, 3, 2, 'a', 'b')\n",
    "f1(1, 3, 2, 'a', 'b', x='9', y='10')\n",
    "x = (1, 2, 3, 4, 5)\n",
    "kw = {'d': 'x', 'e': 'y'}\n",
    "f1(*x, **kw)"
   ]
  },
  {
   "cell_type": "code",
   "execution_count": 81,
   "metadata": {},
   "outputs": [],
   "source": [
    "# * ** 运算符的本质同 ... 相同, 将参数展开\n",
    "# 所以，对于任意函数，都可以通过类似func(*args, **kw)的形式调用它，无论它的参数是如何定义的。"
   ]
  },
  {
   "cell_type": "code",
   "execution_count": 95,
   "metadata": {},
   "outputs": [],
   "source": [
    "def f2(a, b, c = 0, *, d, **kw):\n",
    "    print('a:', a, ' b:', b, ' c:', c, ' d:', d, ' kw:', kw)"
   ]
  },
  {
   "cell_type": "code",
   "execution_count": 96,
   "metadata": {},
   "outputs": [
    {
     "ename": "TypeError",
     "evalue": "f2() takes from 2 to 3 positional arguments but 5 positional arguments (and 1 keyword-only argument) were given",
     "output_type": "error",
     "traceback": [
      "\u001b[1;31m---------------------------------------------------------------------------\u001b[0m",
      "\u001b[1;31mTypeError\u001b[0m                                 Traceback (most recent call last)",
      "\u001b[1;32m<ipython-input-96-6602712f3a0d>\u001b[0m in \u001b[0;36m<module>\u001b[1;34m()\u001b[0m\n\u001b[1;32m----> 1\u001b[1;33m \u001b[0mf2\u001b[0m\u001b[1;33m(\u001b[0m\u001b[1;36m1\u001b[0m\u001b[1;33m,\u001b[0m \u001b[1;36m2\u001b[0m\u001b[1;33m,\u001b[0m \u001b[1;36m3\u001b[0m\u001b[1;33m,\u001b[0m \u001b[1;36m4\u001b[0m\u001b[1;33m,\u001b[0m \u001b[1;36m5\u001b[0m\u001b[1;33m,\u001b[0m \u001b[0md\u001b[0m\u001b[1;33m=\u001b[0m\u001b[1;36m5\u001b[0m\u001b[1;33m,\u001b[0m \u001b[0me\u001b[0m\u001b[1;33m=\u001b[0m\u001b[1;36m6\u001b[0m\u001b[1;33m,\u001b[0m \u001b[0mf\u001b[0m\u001b[1;33m=\u001b[0m\u001b[1;36m7\u001b[0m\u001b[1;33m)\u001b[0m\u001b[1;33m\u001b[0m\u001b[0m\n\u001b[0m",
      "\u001b[1;31mTypeError\u001b[0m: f2() takes from 2 to 3 positional arguments but 5 positional arguments (and 1 keyword-only argument) were given"
     ]
    }
   ],
   "source": [
    "f2(1, 2, 3, 4, 5, d=5, e=6, f=7)"
   ]
  },
  {
   "cell_type": "code",
   "execution_count": 90,
   "metadata": {},
   "outputs": [],
   "source": [
    "# 可以从上面看出, 参数分为四类, 位置参数, 可变参数, 命名关键字参数, 关键字参数, 这四部分参数顺序是固定的\n",
    "# 可变参数, 收集没有被位置参数接收的参数, 关键字参数, 收集没有被命名关键字参数接收的参数\n",
    "# * 后不跟参数名时, 可变参数没有参数接收, 所以多传参数就会报错"
   ]
  }
 ],
 "metadata": {
  "kernelspec": {
   "display_name": "Python 3",
   "language": "python",
   "name": "python3"
  },
  "language_info": {
   "codemirror_mode": {
    "name": "ipython",
    "version": 3
   },
   "file_extension": ".py",
   "mimetype": "text/x-python",
   "name": "python",
   "nbconvert_exporter": "python",
   "pygments_lexer": "ipython3",
   "version": "3.6.3"
  }
 },
 "nbformat": 4,
 "nbformat_minor": 2
}
