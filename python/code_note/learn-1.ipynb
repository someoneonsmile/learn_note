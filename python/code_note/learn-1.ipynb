{
 "cells": [
  {
   "cell_type": "code",
   "execution_count": 15,
   "metadata": {},
   "outputs": [
    {
     "name": "stdout",
     "output_type": "stream",
     "text": [
      "b'\\xe4\\xb8\\xad\\xe6\\x96\\x87'\n",
      "中文\n"
     ]
    }
   ],
   "source": [
    "# 字符编码, 解码\n",
    "a = '中文'.encode('utf-8')\n",
    "print(a)\n",
    "b = a.decode('utf-8')\n",
    "print(b)"
   ]
  },
  {
   "cell_type": "code",
   "execution_count": 17,
   "metadata": {},
   "outputs": [
    {
     "name": "stdout",
     "output_type": "stream",
     "text": [
      "2\n"
     ]
    }
   ],
   "source": [
    "# 字符长度\n",
    "print(len(b))"
   ]
  },
  {
   "cell_type": "code",
   "execution_count": 22,
   "metadata": {},
   "outputs": [
    {
     "name": "stdout",
     "output_type": "stream",
     "text": [
      "hello, world\n",
      "hi, my name is wangyp, my age is 23\n",
      "my input is '$my_input'\n",
      "i love you\n",
      "i say 'emmm..'  ok, is not important!\n"
     ]
    }
   ],
   "source": [
    "# 字符格式化\n",
    "print(\"hello, %s\" % 'world')\n",
    "# 多参数\n",
    "print(\"hi, my name is %s, my age is %d\" % ('wangyp', 23))\n",
    "# 原样输出 \n",
    "print(\"my input is %r\" % \"$my_input\")\n",
    "# 拼接字符串\n",
    "print(\"i love\", \"you\")\n",
    "# 拼接字符串（参数格式化）\n",
    "print(\"i say %r\" % 'emmm..', \" ok, is not important!\")"
   ]
  },
  {
   "cell_type": "code",
   "execution_count": 65,
   "metadata": {},
   "outputs": [
    {
     "name": "stdout",
     "output_type": "stream",
     "text": [
      "84.7 %\n"
     ]
    }
   ],
   "source": [
    "# 格式化输出 测试\n",
    "s1 = 72\n",
    "s2 = 85\n",
    "r = s1 / s2 * 100\n",
    "print(\"%.1f %%\" % r)"
   ]
  }
 ],
 "metadata": {
  "kernelspec": {
   "display_name": "Python 3",
   "language": "python",
   "name": "python3"
  },
  "language_info": {
   "codemirror_mode": {
    "name": "ipython",
    "version": 3
   },
   "file_extension": ".py",
   "mimetype": "text/x-python",
   "name": "python",
   "nbconvert_exporter": "python",
   "pygments_lexer": "ipython3",
   "version": "3.5.4rc1"
  }
 },
 "nbformat": 4,
 "nbformat_minor": 2
}
