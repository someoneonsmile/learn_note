{
 "cells": [
  {
   "cell_type": "code",
   "execution_count": 1,
   "metadata": {},
   "outputs": [],
   "source": [
    "# 多重继承"
   ]
  },
  {
   "cell_type": "code",
   "execution_count": 4,
   "metadata": {},
   "outputs": [],
   "source": [
    "class Animal(object):\n",
    "    pass\n",
    "\n",
    "# 大类\n",
    "class Mammal(Animal):\n",
    "    pass\n",
    "\n",
    "class Bird(Animal):\n",
    "    pass\n",
    "\n",
    "# 各种动物\n",
    "class Dog(Mammal):\n",
    "    pass\n",
    "\n",
    "class Bat(Mammal):\n",
    "    pass\n",
    "\n",
    "class Parrot(Bird):\n",
    "    pass\n",
    "\n",
    "class Ostrich(Bird):\n",
    "    pass\n",
    "\n",
    "\n",
    "# 现在，要给动物再加上 Runnable 和 Flyable 的功能， 只需要先定义好 Runnable 和 Flyable 的类\n",
    "class Runnable(object):\n",
    "    def run(self):\n",
    "        print('Running...')\n",
    "        \n",
    "class Flyable(object):\n",
    "    def fly(self):\n",
    "        print('Flying...')\n",
    "        \n",
    "# 对于需要 Runnable 功能的动物， 就多继承一个 Runnable, 例如 Dog\n",
    "class Dog(Mammal, Runnable):\n",
    "    pass\n",
    "\n",
    "# 对于需要 Flyable 功能的动物 就多继承一个 Flyable, 例如 Bat\n",
    "class Bat(Mammal, Flyable):\n",
    "    pass\n",
    "\n",
    "\n",
    "# 在设计类的继承关系是地，通常主线都是单一继承下来的，如果需要 “混入” 额外的功能，通过多继承就可以实现\n",
    "# 这种设计通常称之为 MinxIn.\n",
    "# 为了更好地看出继承关系，我们把 Runnable 和 Flyable 改为 RunnableMinxIn 和 FlyableMixIn"
   ]
  },
  {
   "cell_type": "code",
   "execution_count": null,
   "metadata": {},
   "outputs": [],
   "source": [
    "# python 的多重继承是有优先级的，优先级为从左往右\n",
    "# 附上 MRO:C3 算法\n",
    "# http://www.codeweblog.com/python-mro-c3%E7%AE%97%E6%B3%95/\n",
    "# http://python.jobbole.com/85685/"
   ]
  },
  {
   "cell_type": "code",
   "execution_count": 3,
   "metadata": {},
   "outputs": [
    {
     "name": "stdout",
     "output_type": "stream",
     "text": [
      "(<class '__main__.A'>, <class '__main__.B'>, <class '__main__.E'>, <class '__main__.G'>, <class '__main__.C'>, <class '__main__.D'>, <class '__main__.F'>, <class 'object'>)\n"
     ]
    }
   ],
   "source": [
    "# 多继承关系的结构\n",
    "import inspect\n",
    "\n",
    "class G(object):\n",
    "    pass\n",
    "\n",
    "class D(object):\n",
    "    def __init__(self):\n",
    "        print(\"D\")\n",
    "\n",
    "\n",
    "class E(object):\n",
    "    def __init__(self):\n",
    "        print(\"E\")\n",
    "\n",
    "\n",
    "class F(object):\n",
    "    def __init__(self):\n",
    "        print(\"F\")\n",
    "\n",
    "\n",
    "class C(D, F):\n",
    "    def __init__(self):\n",
    "        print(\"C\")\n",
    "\n",
    "\n",
    "class B(E, G):\n",
    "    def __init__(self):\n",
    "        print(\"B\")\n",
    "\n",
    "\n",
    "class A(B, C):\n",
    "    def __init__(self):\n",
    "        print(\"A\")\n",
    "\n",
    "\n",
    "if __name__ == '__main__':\n",
    "    print(inspect.getmro(A))\n",
    "\n",
    "\n",
    "# A -> B -> E -> G -> C -> D -> F -> object"
   ]
  },
  {
   "cell_type": "code",
   "execution_count": 16,
   "metadata": {},
   "outputs": [
    {
     "name": "stdout",
     "output_type": "stream",
     "text": [
      "B\n"
     ]
    },
    {
     "data": {
      "text/plain": [
       "(__main__.C, __main__.B, __main__.A, object)"
      ]
     },
     "execution_count": 16,
     "metadata": {},
     "output_type": "execute_result"
    }
   ],
   "source": [
    "# 隔代继承\n",
    "class A(object):\n",
    "    def run(self):\n",
    "        print('A')\n",
    "        \n",
    "\n",
    "class B(A):\n",
    "    def run(self):\n",
    "        print('B')\n",
    "        \n",
    "        \n",
    "class C(B, A):\n",
    "    pass\n",
    "\n",
    "c = C()\n",
    "c.run()\n",
    "C.__mro__"
   ]
  },
  {
   "cell_type": "code",
   "execution_count": 17,
   "metadata": {},
   "outputs": [
    {
     "ename": "TypeError",
     "evalue": "Cannot create a consistent method resolution\norder (MRO) for bases B, A",
     "output_type": "error",
     "traceback": [
      "\u001b[0;31m---------------------------------------------------------------------------\u001b[0m",
      "\u001b[0;31mTypeError\u001b[0m                                 Traceback (most recent call last)",
      "\u001b[0;32m<ipython-input-17-9e2f6cc3d99b>\u001b[0m in \u001b[0;36m<module>\u001b[0;34m()\u001b[0m\n\u001b[0;32m----> 1\u001b[0;31m \u001b[0;32mclass\u001b[0m \u001b[0mD\u001b[0m\u001b[0;34m(\u001b[0m\u001b[0mA\u001b[0m\u001b[0;34m,\u001b[0m \u001b[0mB\u001b[0m\u001b[0;34m)\u001b[0m\u001b[0;34m:\u001b[0m\u001b[0;34m\u001b[0m\u001b[0m\n\u001b[0m\u001b[1;32m      2\u001b[0m     \u001b[0;32mpass\u001b[0m\u001b[0;34m\u001b[0m\u001b[0m\n",
      "\u001b[0;31mTypeError\u001b[0m: Cannot create a consistent method resolution\norder (MRO) for bases B, A"
     ]
    }
   ],
   "source": [
    "class D(A, B):\n",
    "    pass"
   ]
  },
  {
   "cell_type": "code",
   "execution_count": 18,
   "metadata": {},
   "outputs": [
    {
     "name": "stdout",
     "output_type": "stream",
     "text": [
      "(<class '__main__.D'>, <class '__main__.B'>, <class '__main__.C'>, <class '__main__.A'>, <class 'object'>)\n"
     ]
    }
   ],
   "source": [
    "class A(object):\n",
    "    def echo(self):\n",
    "        print(\"class_A\")\n",
    "\n",
    "class B(A):\n",
    "    pass\n",
    "    #def echo(self):\n",
    "    #    print \"class_B\"\n",
    "\n",
    "class C(A):\n",
    "    def echo(self):\n",
    "        print(\"class_C\")\n",
    "\n",
    "class D(B,C):\n",
    "    pass\n",
    "print(D.__mro__ )\n",
    "\n",
    "# D -> B -> C -> A -> object"
   ]
  },
  {
   "cell_type": "code",
   "execution_count": null,
   "metadata": {},
   "outputs": [],
   "source": []
  }
 ],
 "metadata": {
  "kernelspec": {
   "display_name": "Python 3",
   "language": "python",
   "name": "python3"
  },
  "language_info": {
   "codemirror_mode": {
    "name": "ipython",
    "version": 3
   },
   "file_extension": ".py",
   "mimetype": "text/x-python",
   "name": "python",
   "nbconvert_exporter": "python",
   "pygments_lexer": "ipython3",
   "version": "3.5.4rc1"
  }
 },
 "nbformat": 4,
 "nbformat_minor": 2
}
