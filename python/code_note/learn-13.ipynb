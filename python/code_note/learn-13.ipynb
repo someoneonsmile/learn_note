{
 "cells": [
  {
   "cell_type": "code",
   "execution_count": 1,
   "metadata": {},
   "outputs": [],
   "source": [
    "# 装饰器"
   ]
  },
  {
   "cell_type": "code",
   "execution_count": 7,
   "metadata": {},
   "outputs": [],
   "source": [
    "def log(func):\n",
    "    def warpper(*args, **kw):\n",
    "        print('call %s():' %func.__name__)\n",
    "        return func(*args, **kw)\n",
    "    return warpper"
   ]
  },
  {
   "cell_type": "code",
   "execution_count": 8,
   "metadata": {},
   "outputs": [],
   "source": [
    "@log\n",
    "def now():\n",
    "    print('2017-12-17')"
   ]
  },
  {
   "cell_type": "code",
   "execution_count": 9,
   "metadata": {},
   "outputs": [
    {
     "name": "stdout",
     "output_type": "stream",
     "text": [
      "call now():\n",
      "2017-12-17\n"
     ]
    }
   ],
   "source": [
    "now()"
   ]
  },
  {
   "cell_type": "code",
   "execution_count": 10,
   "metadata": {},
   "outputs": [],
   "source": [
    "# 观察上面的 log， 因为它是一个decorator\n",
    "# 所以接受一个函数作为参数，并返回一个函数\n",
    "# 把 @log 放到 now() 函数定义处，相当于执行了语句：\n",
    "# now = log(now)"
   ]
  },
  {
   "cell_type": "code",
   "execution_count": 12,
   "metadata": {},
   "outputs": [
    {
     "name": "stdout",
     "output_type": "stream",
     "text": [
      "test\n",
      "test execute in 0:00:00.000137 ms\n"
     ]
    }
   ],
   "source": [
    "# 动行时间装饰器\n",
    "import datetime, time, functools\n",
    "def time(func):\n",
    "    def wrapper(*args, **kw):\n",
    "        start = datetime.datetime.now()\n",
    "        result = func(*args, **kw)\n",
    "        end = datetime.datetime.now()\n",
    "        print('%s execute in %s ms' %(func.__name__, end-start))\n",
    "        return result\n",
    "    return wrapper\n",
    "\n",
    "\n",
    "@time\n",
    "def test():\n",
    "    print('test')\n",
    "    \n",
    "\n",
    "test()"
   ]
  },
  {
   "cell_type": "code",
   "execution_count": 15,
   "metadata": {},
   "outputs": [
    {
     "name": "stdout",
     "output_type": "stream",
     "text": [
      "log: testlog\n",
      "test\n"
     ]
    }
   ],
   "source": [
    "# 日志装饰类\n",
    "def log(text):\n",
    "    def decorator(func):\n",
    "        @functools.wraps(func)\n",
    "        def wrapper(*args, **kw):\n",
    "            print('log:', text)\n",
    "            return func(*args, **kw)\n",
    "        return wrapper\n",
    "    return decorator\n",
    "\n",
    "@log('testlog')\n",
    "def test():\n",
    "    print('test')\n",
    "    \n",
    "test()"
   ]
  },
  {
   "cell_type": "code",
   "execution_count": 32,
   "metadata": {},
   "outputs": [],
   "source": [
    "# 即支持 @log， 又支持 @log('text')\n",
    "def log(arg):\n",
    "    def decorator(func):\n",
    "        @functools.wraps(func)\n",
    "        def wrapper(*args, **kw):\n",
    "            if arg != func:\n",
    "                print('%s call %s' %(arg, func.__name__))\n",
    "            else:\n",
    "                print('call %s' % func.__name__)\n",
    "            return func(*args, **kw)\n",
    "        return wrapper\n",
    "    # 如果传入的参数为 str，则返回的须是一个装饰器函数\n",
    "    # 输入原始函数，返回包装函数\n",
    "    if isinstance(arg, str):\n",
    "        return decorator\n",
    "    # 如果传入的参数为函数，则返回的须是一个包装函数\n",
    "    # (与被装饰函数输入输出相同)\n",
    "    else:\n",
    "        return decorator(arg)\n"
   ]
  },
  {
   "cell_type": "code",
   "execution_count": 33,
   "metadata": {},
   "outputs": [],
   "source": [
    "@log('testlog')\n",
    "def test():\n",
    "    print('test')\n",
    "\n",
    "\n",
    "@log\n",
    "def test2():\n",
    "    print('test2')\n"
   ]
  },
  {
   "cell_type": "code",
   "execution_count": 35,
   "metadata": {},
   "outputs": [
    {
     "name": "stdout",
     "output_type": "stream",
     "text": [
      "testlog call test\n",
      "test\n",
      "call test2\n",
      "test2\n"
     ]
    }
   ],
   "source": [
    "test()\n",
    "test2()"
   ]
  },
  {
   "cell_type": "code",
   "execution_count": 36,
   "metadata": {},
   "outputs": [],
   "source": [
    "# 偏函数"
   ]
  },
  {
   "cell_type": "code",
   "execution_count": 37,
   "metadata": {},
   "outputs": [
    {
     "data": {
      "text/plain": [
       "34"
      ]
     },
     "execution_count": 37,
     "metadata": {},
     "output_type": "execute_result"
    }
   ],
   "source": [
    "# 通过functools.partial()创建，用于设定函数的默认值\n",
    "int2 = functools.partial(int, base=2)\n",
    "int2('100010')"
   ]
  },
  {
   "cell_type": "code",
   "execution_count": null,
   "metadata": {},
   "outputs": [],
   "source": []
  }
 ],
 "metadata": {
  "kernelspec": {
   "display_name": "Python 3",
   "language": "python",
   "name": "python3"
  },
  "language_info": {
   "codemirror_mode": {
    "name": "ipython",
    "version": 3
   },
   "file_extension": ".py",
   "mimetype": "text/x-python",
   "name": "python",
   "nbconvert_exporter": "python",
   "pygments_lexer": "ipython3",
   "version": "3.5.4rc1"
  }
 },
 "nbformat": 4,
 "nbformat_minor": 2
}
