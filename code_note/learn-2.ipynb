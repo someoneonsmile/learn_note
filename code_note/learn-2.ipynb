{
 "cells": [
  {
   "cell_type": "code",
   "execution_count": 1,
   "metadata": {},
   "outputs": [],
   "source": [
    "# list\n",
    "classmates = ['tom', 'tony', 'anny']"
   ]
  },
  {
   "cell_type": "code",
   "execution_count": 2,
   "metadata": {},
   "outputs": [
    {
     "name": "stdout",
     "output_type": "stream",
     "text": [
      "3\n"
     ]
    }
   ],
   "source": [
    "# len\n",
    "print(len(classmates))"
   ]
  },
  {
   "cell_type": "code",
   "execution_count": 6,
   "metadata": {},
   "outputs": [
    {
     "name": "stdout",
     "output_type": "stream",
     "text": [
      "tom\n",
      "tony\n",
      "anny\n",
      "anny\n"
     ]
    }
   ],
   "source": [
    "# 取元素\n",
    "print(classmates[0])\n",
    "print(classmates[1])\n",
    "print(classmates[2])\n",
    "# classmates[3] ## IndexError: list index out of range\n",
    "print(classmates[-1])"
   ]
  },
  {
   "cell_type": "code",
   "execution_count": 10,
   "metadata": {},
   "outputs": [],
   "source": [
    "# append to tail\n",
    "classmates.append('hony')\n",
    "# insert to the index\n",
    "classmates.insert(1, 'jack')"
   ]
  },
  {
   "cell_type": "code",
   "execution_count": 12,
   "metadata": {},
   "outputs": [
    {
     "data": {
      "text/plain": [
       "'jack'"
      ]
     },
     "execution_count": 12,
     "metadata": {},
     "output_type": "execute_result"
    }
   ],
   "source": [
    "# pop 删除末尾的元素\n",
    "classmates.pop()\n",
    "# 删除指定索引的元素\n",
    "classmates.pop(1)"
   ]
  },
  {
   "cell_type": "code",
   "execution_count": 13,
   "metadata": {},
   "outputs": [],
   "source": [
    "# 替换\n",
    "classmates[1] = 'JZ'"
   ]
  },
  {
   "cell_type": "code",
   "execution_count": 14,
   "metadata": {},
   "outputs": [],
   "source": [
    "# list 里可以存放不同类型的元素\n",
    "L = ['apple', 123, True]\n",
    "# list 里可以嵌套存放 list\n",
    "a = ['java', 'python', 'go', ['jsp', 'html']]\n",
    "# 嵌套 list 拆开写, 这里的也为一个 list\n",
    "b = ['jsp', 'html']\n",
    "c = ['java', 'python', 'go', b]"
   ]
  },
  {
   "cell_type": "code",
   "execution_count": null,
   "metadata": {},
   "outputs": [],
   "source": []
  },
  {
   "cell_type": "code",
   "execution_count": 15,
   "metadata": {},
   "outputs": [],
   "source": [
    "# truple 为不可变的 list， 优点更安全\n",
    "# 当元组中只有一个元素时， 应定义为(1, )， 避免与数字相混（有岐义）\n",
    "s = (1, )"
   ]
  },
  {
   "cell_type": "code",
   "execution_count": 16,
   "metadata": {},
   "outputs": [
    {
     "data": {
      "text/plain": [
       "('a', 'b', ['X', 'Y'])"
      ]
     },
     "execution_count": 16,
     "metadata": {},
     "output_type": "execute_result"
    }
   ],
   "source": [
    "# truple 为指向不可变， 指向的对象仍然可变\n",
    "t = ('a', 'b', ['A', 'B'])\n",
    "t[2][0] = 'X'\n",
    "t[2][1] = 'Y'\n",
    "t"
   ]
  }
 ],
 "metadata": {
  "kernelspec": {
   "display_name": "Python 3",
   "language": "python",
   "name": "python3"
  },
  "language_info": {
   "codemirror_mode": {
    "name": "ipython",
    "version": 3
   },
   "file_extension": ".py",
   "mimetype": "text/x-python",
   "name": "python",
   "nbconvert_exporter": "python",
   "pygments_lexer": "ipython3",
   "version": "3.5.4rc1"
  }
 },
 "nbformat": 4,
 "nbformat_minor": 2
}
